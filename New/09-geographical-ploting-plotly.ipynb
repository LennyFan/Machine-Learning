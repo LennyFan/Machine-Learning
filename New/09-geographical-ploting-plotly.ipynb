{
 "cells": [
  {
   "cell_type": "markdown",
   "metadata": {},
   "source": [
    "# Geographical ploting\n",
    "\n",
    "- plotly\n",
    "\n",
    "> https://plot.ly/python/offline/\n",
    "\n",
    "> https://images.plot.ly/plotly-documentation/images/python_cheat_sheet.pdf\n",
    "\n",
    "> https://plot.ly/python/reference/#scattergeo\n",
    "\n",
    "\n",
    ">> two main object: data, layout variables\n",
    "\n",
    "- matplotlib > basemap"
   ]
  },
  {
   "cell_type": "code",
   "execution_count": 15,
   "metadata": {
    "collapsed": true
   },
   "outputs": [],
   "source": [
    "import plotly.plotly as py\n",
    "import plotly.graph_objs as go \n",
    "import pandas as pd"
   ]
  },
  {
   "cell_type": "code",
   "execution_count": 16,
   "metadata": {
    "collapsed": true
   },
   "outputs": [],
   "source": [
    "from plotly.offline import download_plotlyjs, init_notebook_mode, plot, iplot"
   ]
  },
  {
   "cell_type": "code",
   "execution_count": 17,
   "metadata": {
    "collapsed": false
   },
   "outputs": [
    {
     "data": {
      "text/html": [
       "<script>requirejs.config({paths: { 'plotly': ['https://cdn.plot.ly/plotly-latest.min']},});if(!window.Plotly) {{require(['plotly'],function(plotly) {window.Plotly=plotly;});}}</script>"
      ],
      "text/vnd.plotly.v1+html": [
       "<script>requirejs.config({paths: { 'plotly': ['https://cdn.plot.ly/plotly-latest.min']},});if(!window.Plotly) {{require(['plotly'],function(plotly) {window.Plotly=plotly;});}}</script>"
      ]
     },
     "metadata": {},
     "output_type": "display_data"
    }
   ],
   "source": [
    "init_notebook_mode(connected=True)"
   ]
  },
  {
   "cell_type": "code",
   "execution_count": 19,
   "metadata": {
    "collapsed": false
   },
   "outputs": [
    {
     "data": {
      "application/vnd.plotly.v1+json": {
       "data": [
        {
         "colorbar": {
          "title": "Colorbar Title"
         },
         "colorscale": "Green",
         "locationmode": "USA-states",
         "locations": [
          "A",
          "CA",
          "NY"
         ],
         "text": [
          "text1",
          "text2",
          "text3"
         ],
         "type": "choropleth",
         "z": [
          1,
          2,
          3
         ]
        }
       ],
       "layout": {
        "geo": {
         "scope": "usa"
        }
       }
      },
      "text/html": [
       "<div id=\"8fa423d9-2e03-4fed-9035-a9f7ddf7232f\" style=\"height: 525px; width: 100%;\" class=\"plotly-graph-div\"></div><script type=\"text/javascript\">require([\"plotly\"], function(Plotly) { window.PLOTLYENV=window.PLOTLYENV || {};window.PLOTLYENV.BASE_URL=\"https://plot.ly\";Plotly.newPlot(\"8fa423d9-2e03-4fed-9035-a9f7ddf7232f\", [{\"colorscale\": \"Green\", \"text\": [\"text1\", \"text2\", \"text3\"], \"locations\": [\"A\", \"CA\", \"NY\"], \"colorbar\": {\"title\": \"Colorbar Title\"}, \"locationmode\": \"USA-states\", \"z\": [1.0, 2.0, 3.0], \"type\": \"choropleth\"}], {\"geo\": {\"scope\": \"usa\"}}, {\"linkText\": \"Export to plot.ly\", \"showLink\": true})});</script>"
      ],
      "text/vnd.plotly.v1+html": [
       "<div id=\"8fa423d9-2e03-4fed-9035-a9f7ddf7232f\" style=\"height: 525px; width: 100%;\" class=\"plotly-graph-div\"></div><script type=\"text/javascript\">require([\"plotly\"], function(Plotly) { window.PLOTLYENV=window.PLOTLYENV || {};window.PLOTLYENV.BASE_URL=\"https://plot.ly\";Plotly.newPlot(\"8fa423d9-2e03-4fed-9035-a9f7ddf7232f\", [{\"colorscale\": \"Green\", \"text\": [\"text1\", \"text2\", \"text3\"], \"locations\": [\"A\", \"CA\", \"NY\"], \"colorbar\": {\"title\": \"Colorbar Title\"}, \"locationmode\": \"USA-states\", \"z\": [1.0, 2.0, 3.0], \"type\": \"choropleth\"}], {\"geo\": {\"scope\": \"usa\"}}, {\"linkText\": \"Export to plot.ly\", \"showLink\": true})});</script>"
      ]
     },
     "metadata": {},
     "output_type": "display_data"
    }
   ],
   "source": [
    "data = dict(type = 'choropleth', # type of geographical plot\n",
    "            locations = ['AZ','CA','NY'], # array/list \n",
    "            locationmode = 'USA-states', \n",
    "            colorscale= 'Green',\n",
    "            text= ['text1','text2','text3'], # correspond to each location\n",
    "            z=[1.0,2.0,3.0], # value represent the color\n",
    "            colorbar = {'title':'Colorbar Title'}) # title for colorbar\n",
    "layout = dict(geo = {'scope':'usa'})\n",
    "choromap = go.Figure(data = [data],layout = layout)\n",
    "#plot(choromap) > open a html page\n",
    "iplot(choromap)"
   ]
  }
 ],
 "metadata": {
  "kernelspec": {
   "display_name": "Python 2",
   "language": "python",
   "name": "python2"
  },
  "language_info": {
   "codemirror_mode": {
    "name": "ipython",
    "version": 2
   },
   "file_extension": ".py",
   "mimetype": "text/x-python",
   "name": "python",
   "nbconvert_exporter": "python",
   "pygments_lexer": "ipython2",
   "version": "2.7.13"
  }
 },
 "nbformat": 4,
 "nbformat_minor": 2
}
