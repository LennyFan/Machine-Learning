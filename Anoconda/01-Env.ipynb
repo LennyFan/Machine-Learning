{
 "cells": [
  {
   "cell_type": "markdown",
   "metadata": {},
   "source": [
    "### Create and Environment\n",
    "\n",
    "> https://conda.io/docs/user-guide/tasks/manage-environments.html#creating-an-environment-with-commands\n",
    "\n",
    "> conda create -n env_name python=3.5 numpy pandas ....\n",
    "\n",
    "### activate/deactivate\n",
    "\n",
    "> activate env_name\n",
    "> deactivate\n",
    "\n",
    "### install package under env\n",
    "\n",
    "> conda install package\n",
    "\n",
    "### check env\n",
    "\n",
    "> conda info --envs"
   ]
  }
 ],
 "metadata": {
  "kernelspec": {
   "display_name": "Python 2",
   "language": "python",
   "name": "python2"
  },
  "language_info": {
   "codemirror_mode": {
    "name": "ipython",
    "version": 2
   },
   "file_extension": ".py",
   "mimetype": "text/x-python",
   "name": "python",
   "nbconvert_exporter": "python",
   "pygments_lexer": "ipython2",
   "version": "2.7.13"
  }
 },
 "nbformat": 4,
 "nbformat_minor": 2
}
